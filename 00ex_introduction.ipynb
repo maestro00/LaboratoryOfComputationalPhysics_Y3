{
 "cells": [
  {
   "cell_type": "markdown",
   "metadata": {},
   "source": [
    "The MickeyMouse problem\n",
    "a) Write a program that prints the numbers from 1 to 100. But for multiples of three print Mickey instead of the number and for the multiples of five print Mouse. For numbers which are multiples of both three and five print MickeyMouse\n",
    "\n",
    "b) Put the result in a tuple and substitute Mickey with Donald and Mouse with Duck\n",
    "\n"
   ]
  },
  {
   "cell_type": "code",
   "execution_count": null,
   "metadata": {},
   "outputs": [],
   "source": [
    "#excercise 1.a\n",
    "for i in range(1,101):\n",
    "    if i%15 == 0:\n",
    "        print(\"MickeyMouse\")\n",
    "    elif i%5 ==0:\n",
    "        print(\"Mouse\")\n",
    "    elif i % 3 == 0:\n",
    "        print(\"Mickey\")\n",
    "    else:\n",
    "        print(i)"
   ]
  },
  {
   "cell_type": "code",
   "execution_count": null,
   "metadata": {},
   "outputs": [],
   "source": [
    "#excercise 1.b\n",
    "my_tuples = ()\n",
    "my_list = list()\n",
    "for i in range(1, 101):\n",
    "    if i % 15 == 0:\n",
    "        my_list.append(\"MickeyMouse\")\n",
    "    elif i % 5 == 0:\n",
    "        my_list.append(\"Mouse\")\n",
    "    elif i % 3 == 0:\n",
    "        my_list.append(\"Mickey\")\n",
    "    else:\n",
    "        my_list.append(str(i))\n",
    "\n",
    "for n, i in enumerate(my_list):\n",
    "    if i == \"Mickey\":\n",
    "        my_list[n] = \"Donald\"\n",
    "    elif i == \"Mouse\":\n",
    "        my_list[n] = \"Duck\"\n",
    "my_tuples = tuple(my_list)\n",
    "print(my_tuples)\n"
   ]
  },
  {
   "cell_type": "markdown",
   "metadata": {},
   "source": [
    "2. The swap function\n",
    "\n",
    "Write a function that swap the values of two input variables x and y (whatever the type). Try to do that also without a temporary variable\n"
   ]
  },
  {
   "cell_type": "code",
   "execution_count": null,
   "metadata": {},
   "outputs": [],
   "source": [
    "def swap_function(a,b):\n",
    "    print(\"Received Values: \" , a,b)\n",
    "    c = b\n",
    "    b = a\n",
    "    a = c\n",
    "    print(\"Swapped Values: \" , a,b)\n",
    "swap_function(\"taylan\",\"yuksel\")"
   ]
  },
  {
   "cell_type": "markdown",
   "metadata": {},
   "source": [
    "3. Computing the distance\n",
    "\n",
    "Write a function that calculates and returns the euclidean distance between two points u and v, where u and v are both 2-tuples (x,y). For example, if u=(3,0) and v=(0,4), the function should return 5\n",
    "\n"
   ]
  },
  {
   "cell_type": "code",
   "execution_count": null,
   "metadata": {},
   "outputs": [],
   "source": [
    "import math as m\n",
    "def euclidean_distance (x1,x2,y1,y2):\n",
    "    return m.sqrt(pow((x1 - y1),2) + pow((x2 - y2),2))\n",
    "\n",
    "print(euclidean_distance(11,0,0,7))"
   ]
  },
  {
   "cell_type": "markdown",
   "metadata": {},
   "source": [
    "4. Counting letters\n",
    "\n",
    "Write a program to calculate the number of times each character occurs in a given string s. Ignore differneces in capitalization\n",
    "\n"
   ]
  },
  {
   "cell_type": "code",
   "execution_count": null,
   "metadata": {},
   "outputs": [],
   "source": [
    "\n",
    "def countletters(a,b):\n",
    "    return a.count(b.lower())\n",
    "\n",
    "s=\"Write a program that prints the numbers from 1 to 100. \\\n",
    "But for multiples of three print Mickey instead of the number and for the multiples of five print Mouse. \\\n",
    "For numbers which are multiples of both three and five print MickeyMouse\"\n",
    "countletters(s.lower(),'w')"
   ]
  },
  {
   "cell_type": "markdown",
   "metadata": {},
   "source": [
    "5. Isolating the unique\n",
    "\n",
    "Write a function that determines and count the unique numbers in the list l\n"
   ]
  },
  {
   "cell_type": "code",
   "execution_count": null,
   "metadata": {},
   "outputs": [],
   "source": [
    "def unique_values(l): \n",
    "  \n",
    "    unique_list = [] \n",
    "      \n",
    "    for x in l: \n",
    "        if x not in unique_list: \n",
    "            unique_list.append(x) \n",
    "\n",
    "    print(\"The unique values from the list: \\n\", *unique_list)\n",
    "    print(\"Total number of unique numbers:\" , len(unique_list))    \n",
    "\n",
    "      \n",
    "l = [36, 45, 58, 3, 74, 96, 64, 45, 31, 10, 24, 19, 33, 86, 99, 18, 63, 70, 85,\n",
    "     85, 63, 47, 56, 42, 70, 84, 88, 55, 20, 54, 8, 56, 51, 79, 81, 57, 37, 91,\n",
    "     1, 84, 84, 36, 66, 9, 89, 50, 42, 91, 50, 95, 90, 98, 39, 16, 82, 31, 92, 41,\n",
    "     45, 30, 66, 70, 34, 85, 94, 5, 3, 36, 72, 91, 84, 34, 87, 75, 53, 51, 20, 89, 51, 20]\n",
    "\n",
    "unique_values(l)"
   ]
  },
  {
   "cell_type": "markdown",
   "metadata": {},
   "source": [
    "6. Combination of functions\n",
    "\n",
    "Write two functions - one that returns the square of a number, and one that returns the cube. Now write a third function that returns the number raised to the 6th power using the two previous functions.\n"
   ]
  },
  {
   "cell_type": "code",
   "execution_count": null,
   "metadata": {},
   "outputs": [],
   "source": [
    "def square(num):\n",
    "    return (num*num)\n",
    "\n",
    "def cube(num):\n",
    "    return (num*num*num)\n",
    "\n",
    "def function6th(num):\n",
    "    return cube(num)*square(num)*num\n",
    "\n",
    "\n",
    "print(function6th(3))"
   ]
  },
  {
   "cell_type": "markdown",
   "metadata": {},
   "source": [
    "7. Cubes\n",
    "\n",
    "Create a list of the cubes of x for x in [0, 10] using:\n",
    "\n",
    "a) a for loop\n",
    "\n",
    "b) a list comprehension\n"
   ]
  },
  {
   "cell_type": "code",
   "execution_count": null,
   "metadata": {},
   "outputs": [],
   "source": [
    "list1 = []\n",
    "for x in range(0, 10):\n",
    "    list1.append(x**3)\n",
    "print(\"For loop:\\r\\n\",list1)\n",
    "\n",
    "\n",
    "x = (x ** 3 for x in range(0, 10))\n",
    "x = list(x)\n",
    "print(\"List Comprehension:\\r\\n\",x)\n"
   ]
  },
  {
   "cell_type": "markdown",
   "metadata": {},
   "source": [
    "8. Nested list comprehension\n",
    "\n",
    "A Pythagorean triple is an integer solution to the Pythagorean theorem $a^2+b^2=c^2$. The first Pythagorean triple is (3,4,5). Find and put in a tuple all unique Pythagorean triples for the positive integers a, b and c less than 100.\n"
   ]
  },
  {
   "cell_type": "code",
   "execution_count": null,
   "metadata": {},
   "outputs": [],
   "source": [
    "import math\n",
    "\n",
    "for a in range(0, 100):\n",
    "    for b in range(0, 100):\n",
    "        for c in range(0, 100):\n",
    "            if (int(c**2) == (int(a**2)+int(b**2)) and int(a) != 0 and int(b) != 0 and int(c) != 0):\n",
    "                print(\"a=\"+str(a), \"b=\"+str(b), \"c=\"+str(c))\n",
    "\n"
   ]
  },
  {
   "cell_type": "markdown",
   "metadata": {},
   "source": [
    "9. Normalization\n",
    "\n",
    "Write a function that takes a tuple of numbers and returns it with the entries normalized to one"
   ]
  },
  {
   "cell_type": "code",
   "execution_count": null,
   "metadata": {},
   "outputs": [],
   "source": [
    "a = [2, 4, 10, 6, 8, 4, 10, 12, 18, 19, 25, 5, 7]\n",
    "print(\"Before normalization : \", a)\n",
    "\n",
    "min_a, max_a = min(a), max(a)\n",
    "for i, val in enumerate(a):\n",
    "    a[i] = (val-min_a) / (max_a-min_a)\n",
    "\n",
    "print(\"After normalization : \", a)"
   ]
  },
  {
   "cell_type": "code",
   "execution_count": null,
   "metadata": {},
   "outputs": [],
   "source": []
  }
 ],
 "metadata": {
  "kernelspec": {
   "display_name": "Python 3",
   "language": "python",
   "name": "python3"
  },
  "language_info": {
   "codemirror_mode": {
    "name": "ipython",
    "version": 3
   },
   "file_extension": ".py",
   "mimetype": "text/x-python",
   "name": "python",
   "nbconvert_exporter": "python",
   "pygments_lexer": "ipython3",
   "version": "3.6.9"
  }
 },
 "nbformat": 4,
 "nbformat_minor": 4
}
